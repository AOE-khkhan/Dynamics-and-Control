{
 "cells": [
  {
   "cell_type": "markdown",
   "metadata": {},
   "source": [
    "## The draining cup problem"
   ]
  },
  {
   "cell_type": "markdown",
   "metadata": {},
   "source": [
    "In this notebook we will be modelling a draining cup. We assume the cup is shaped like a [conical frustrum](http://mathworld.wolfram.com/ConicalFrustum.html) or truncated cone:\n",
    "\n",
    "![](../../assets/cup.png)\n",
    "\n",
    "$D$ and $d$ are the top and bottom diameters of the cup, $H$ is the side length between the diameters, $d_h$ is the hole diameter. We also define $H'$ as the vertical height of the cup and $h$ as the vertical height (or level) of the liquid in the cup"
   ]
  },
  {
   "cell_type": "markdown",
   "metadata": {},
   "source": [
    "### Volume-height relationship"
   ]
  },
  {
   "cell_type": "markdown",
   "metadata": {},
   "source": [
    "Let's work out the relationship between the volume of water and the level in the cup by integrating the area:\n",
    "\n",
    "$$V = \\int_0^h A(h) dh$$"
   ]
  },
  {
   "cell_type": "code",
   "execution_count": 1,
   "metadata": {},
   "outputs": [],
   "source": [
    "import sympy\n",
    "sympy.init_printing()"
   ]
  },
  {
   "cell_type": "code",
   "execution_count": 2,
   "metadata": {},
   "outputs": [],
   "source": [
    "D, d, H, h = sympy.symbols('D, d, H, h', real=True)"
   ]
  },
  {
   "cell_type": "code",
   "execution_count": 3,
   "metadata": {},
   "outputs": [],
   "source": [
    "R = D/2\n",
    "r = d/2\n",
    "Hprime = sympy.sqrt(H**2 - (R - r)**2)  # Pythagoras"
   ]
  },
  {
   "cell_type": "markdown",
   "metadata": {},
   "source": [
    "The radius changes linearly from the small one to the large one:"
   ]
  },
  {
   "cell_type": "code",
   "execution_count": 4,
   "metadata": {},
   "outputs": [],
   "source": [
    "radius = r + h/Hprime*(R - r)"
   ]
  },
  {
   "cell_type": "markdown",
   "metadata": {},
   "source": [
    "Now it is easy to calculate the area:"
   ]
  },
  {
   "cell_type": "code",
   "execution_count": 5,
   "metadata": {},
   "outputs": [],
   "source": [
    "A = sympy.pi*radius**2"
   ]
  },
  {
   "cell_type": "markdown",
   "metadata": {},
   "source": [
    "And from there, the volume:"
   ]
  },
  {
   "cell_type": "code",
   "execution_count": 6,
   "metadata": {},
   "outputs": [],
   "source": [
    "V = sympy.integrate(A, (h, 0, h))"
   ]
  },
  {
   "cell_type": "code",
   "execution_count": 9,
   "metadata": {},
   "outputs": [
    {
     "data": {
      "image/png": "[encoded data removed]",
      "text/latex": [
       "$$\\frac{\\pi d^{2} h}{4} - \\frac{h^{3} \\left(\\pi D^{2} - 2 \\pi D d + \\pi d^{2}\\right)}{3 D^{2} - 6 D d - 12 H^{2} + 3 d^{2}} - \\frac{h^{2} \\left(- \\pi D d + \\pi d^{2}\\right)}{2 \\sqrt{- D^{2} + 2 D d + 4 H^{2} - d^{2}}}$$"
      ],
      "text/plain": [
       "   2       3 ⎛   2                2⎞           2 ⎛            2⎞      \n",
       "π⋅d ⋅h    h ⋅⎝π⋅D  - 2⋅π⋅D⋅d + π⋅d ⎠          h ⋅⎝-π⋅D⋅d + π⋅d ⎠      \n",
       "────── - ─────────────────────────── - ───────────────────────────────\n",
       "  4         2               2      2        __________________________\n",
       "         3⋅D  - 6⋅D⋅d - 12⋅H  + 3⋅d        ╱    2              2    2 \n",
       "                                       2⋅╲╱  - D  + 2⋅D⋅d + 4⋅H  - d  "
      ]
     },
     "execution_count": 9,
     "metadata": {},
     "output_type": "execute_result"
    }
   ],
   "source": [
    "V"
   ]
  },
  {
   "cell_type": "code",
   "execution_count": null,
   "metadata": {},
   "outputs": [],
   "source": []
  }
 ],
 "metadata": {
  "kernelspec": {
   "display_name": "Python 3",
   "language": "python",
   "name": "python3"
  },
  "language_info": {
   "codemirror_mode": {
    "name": "ipython",
    "version": 3
   },
   "file_extension": ".py",
   "mimetype": "text/x-python",
   "name": "python",
   "nbconvert_exporter": "python",
   "pygments_lexer": "ipython3",
   "version": "3.7.3"
  }
 },
 "nbformat": 4,
 "nbformat_minor": 2
}
