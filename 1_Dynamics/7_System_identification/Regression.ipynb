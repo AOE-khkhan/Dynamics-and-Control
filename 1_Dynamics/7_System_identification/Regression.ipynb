{
 "cells": [
  {
   "cell_type": "code",
   "execution_count": 1,
   "metadata": {},
   "outputs": [],
   "source": [
    "import numpy\n",
    "from matplotlib import pyplot as plt\n",
    "%matplotlib inline"
   ]
  },
  {
   "cell_type": "markdown",
   "metadata": {},
   "source": [
    "## Linear regression\n",
    "\n",
    "Data from Example 6.1 of Seborg, Edgar, Melichamp and Doyle (3rd edition)"
   ]
  },
  {
   "cell_type": "code",
   "execution_count": 2,
   "metadata": {},
   "outputs": [],
   "source": [
    "import pandas"
   ]
  },
  {
   "cell_type": "code",
   "execution_count": 3,
   "metadata": {},
   "outputs": [],
   "source": [
    "df = pandas.read_excel('../../assets/example_6_1.xlsx')"
   ]
  },
  {
   "cell_type": "code",
   "execution_count": 4,
   "metadata": {},
   "outputs": [],
   "source": [
    "x = df['Fuel Flow Rate']\n",
    "y = df['Power Generated']"
   ]
  },
  {
   "cell_type": "code",
   "execution_count": 5,
   "metadata": {},
   "outputs": [
    {
     "data": {
      "text/plain": [
       "<matplotlib.collections.PathCollection at 0x11f9de6d8>"
      ]
     },
     "execution_count": 5,
     "metadata": {},
     "output_type": "execute_result"
    },
    {
     "data": {
      "image/png": "[encoded data removed]",
      "text/plain": [
       "<Figure size 432x288 with 1 Axes>"
      ]
     },
     "metadata": {
      "needs_background": "light"
     },
     "output_type": "display_data"
    }
   ],
   "source": [
    "plt.scatter(x, y)"
   ]
  },
  {
   "cell_type": "markdown",
   "metadata": {},
   "source": [
    "That resembles a straight line! Let's say the line is described by\n",
    "\n",
    "$$y = ax + b$$"
   ]
  },
  {
   "cell_type": "markdown",
   "metadata": {},
   "source": [
    "In regression, we are trying to find $a$ and $b$ given lots of values for $y$ and $x$, so we have something like\n",
    "\n",
    "\\begin{align}\n",
    "y_0 &= ax_0 + b \\\\\n",
    "y_1 &= ax_1 + b \\\\\n",
    "y_2 &= ax_2 + b \\\\\n",
    "\\vdots &= \\vdots \\\\\n",
    "\\end{align}\n",
    "\n",
    "Which we factor as \n",
    "\n",
    "$$\\underbrace{\\begin{bmatrix}y_0\\\\y_1\\\\\\vdots \\end{bmatrix}}_Y = \\underbrace{\\begin{bmatrix}x_0 & 1 \\\\x_1 & 1\\\\\\vdots & \\vdots \\end{bmatrix}}_X \\underbrace{\\begin{bmatrix}a\\\\b\\end{bmatrix}}_\\beta$$"
   ]
  },
  {
   "cell_type": "markdown",
   "metadata": {},
   "source": [
    "In this case, when there are many points, $X$ is taller than it is wide and as such we know that there is no solution to the exact equations. Instead, we may try to get \"close\" to the solution. We can write the residuals as"
   ]
  },
  {
   "cell_type": "markdown",
   "metadata": {},
   "source": [
    "$$\\epsilon = Y - X\\beta$$"
   ]
  },
  {
   "cell_type": "markdown",
   "metadata": {},
   "source": [
    "Here, $\\epsilon$ is a vector of errors, one for each data point. The (euclidian) length of this vector is given by \n",
    "\n",
    "$$||\\epsilon|| = \\sqrt{\\sum_i \\epsilon_i^2}$$"
   ]
  },
  {
   "cell_type": "markdown",
   "metadata": {},
   "source": [
    "It is common to focus on minimising the part without the square root to make calculations simpler. This leads to the popular way of determining the error of a fit called the \"sum of square errors\", sometimes expressed as $||\\epsilon||^2$.\n",
    "\n",
    "This minimisation is written in mathematical notation as \n",
    "\n",
    "$$\\min_\\beta \\sum_i \\epsilon_i^2$$\n",
    "\n",
    "which is read in words as as \"minimise (_with respect to_ or _by changing_ $\\beta$) the sum of the square error\"."
   ]
  },
  {
   "cell_type": "markdown",
   "metadata": {},
   "source": [
    "## Create the design matrices"
   ]
  },
  {
   "cell_type": "markdown",
   "metadata": {},
   "source": [
    "The matrices $Y$ and $X$ are sometimes called the design matrices. We can build them using basic numpy functions as follows:"
   ]
  },
  {
   "cell_type": "code",
   "execution_count": 6,
   "metadata": {},
   "outputs": [],
   "source": [
    "Y = numpy.asmatrix(y).T\n",
    "X = numpy.bmat([numpy.c_[x], numpy.ones_like(Y)])"
   ]
  },
  {
   "cell_type": "markdown",
   "metadata": {},
   "source": [
    "_Note_ `numpy.c_` produces a two dimensional array from a one dimensional one in a *c*olumn."
   ]
  },
  {
   "cell_type": "markdown",
   "metadata": {},
   "source": [
    "In the case of polynomials, $X$ is a special matrix called a [Vandermonde matrix](https://en.wikipedia.org/wiki/Vandermonde_matrix), and numpy has a function which generates them more easily."
   ]
  },
  {
   "cell_type": "code",
   "execution_count": 7,
   "metadata": {},
   "outputs": [],
   "source": [
    "X = numpy.asmatrix(numpy.vander(x, 2))"
   ]
  },
  {
   "cell_type": "markdown",
   "metadata": {},
   "source": [
    "There is also a library called [patsy](https://patsy.readthedocs.io) which supplies a simplified syntax to construct these matrices:"
   ]
  },
  {
   "cell_type": "code",
   "execution_count": 8,
   "metadata": {},
   "outputs": [
    {
     "ename": "NameError",
     "evalue": "name 'patsy' is not defined",
     "output_type": "error",
     "traceback": [
      "\u001b[0;31m---------------------------------------------------------------------------\u001b[0m",
      "\u001b[0;31mNameError\u001b[0m                                 Traceback (most recent call last)",
      "\u001b[0;32m<ipython-input-8-fff864cea944>\u001b[0m in \u001b[0;36m<module>\u001b[0;34m\u001b[0m\n\u001b[0;32m----> 1\u001b[0;31m \u001b[0mY\u001b[0m\u001b[0;34m,\u001b[0m \u001b[0mX\u001b[0m \u001b[0;34m=\u001b[0m \u001b[0mpatsy\u001b[0m\u001b[0;34m.\u001b[0m\u001b[0mdmatrices\u001b[0m\u001b[0;34m(\u001b[0m\u001b[0;34m\"Q('Power Generated') ~ Q('Fuel Flow Rate')\"\u001b[0m\u001b[0;34m,\u001b[0m \u001b[0mdf\u001b[0m\u001b[0;34m)\u001b[0m\u001b[0;34m\u001b[0m\u001b[0;34m\u001b[0m\u001b[0m\n\u001b[0m",
      "\u001b[0;31mNameError\u001b[0m: name 'patsy' is not defined"
     ]
    }
   ],
   "source": [
    "Y, X = patsy.dmatrices(\"Q('Power Generated') ~ Q('Fuel Flow Rate')\", df)"
   ]
  },
  {
   "cell_type": "code",
   "execution_count": null,
   "metadata": {},
   "outputs": [],
   "source": [
    "Y, X = map(numpy.asmatrix, (Y, X))"
   ]
  },
  {
   "cell_type": "markdown",
   "metadata": {},
   "source": [
    "### Pseudoinverse solution"
   ]
  },
  {
   "cell_type": "markdown",
   "metadata": {},
   "source": [
    "First, let's apply the pseudoinverse method directly (note **you should never do this for production code**, as calculating inverses is computationally expensive)\n",
    "\n"
   ]
  },
  {
   "cell_type": "markdown",
   "metadata": {},
   "source": [
    "The solution minimising the sum of the squares of the residual $||\\epsilon||^2$ can be shown to be \n",
    "\n",
    "$$ \\hat{\\beta} = (X^TX)^{-1}X^T Y $$"
   ]
  },
  {
   "cell_type": "code",
   "execution_count": null,
   "metadata": {},
   "outputs": [],
   "source": [
    "#Excel: =MMULT((MINVERSE(MMULT(TRANSPOSE(_X); _X))); MMULT(TRANSPOSE(_X); _Y))\n",
    "betahat = (X.T * X).I * X.T * Y\n",
    "betahat"
   ]
  },
  {
   "cell_type": "markdown",
   "metadata": {},
   "source": [
    "*Note:* The code above is as close as possible to the equation above, as I have made `X` and `Y` matrices. **The numpy developers advise against using the `numpy.matrix` class**.\n",
    "\n",
    "Matrix properties: \n",
    "* `.T`: Transpose\n",
    "* `.I`: Inverse\n",
    "* `.A`: Array form of matrix\n",
    "\n",
    "Normal `numpy.array`s don't have an `.I` property and don't multiply matrix-fasion but rather element-wise. Here is how we would have to write the code if we used arrays:"
   ]
  },
  {
   "cell_type": "code",
   "execution_count": null,
   "metadata": {},
   "outputs": [],
   "source": [
    "Y = Y.A\n",
    "X = X.A"
   ]
  },
  {
   "cell_type": "code",
   "execution_count": null,
   "metadata": {},
   "outputs": [],
   "source": [
    "numpy.linalg.inv(X.T @ X) @ X.T @ Y"
   ]
  },
  {
   "cell_type": "markdown",
   "metadata": {},
   "source": [
    "The `@` operator always does matrix multiplication and expects two-dimensional arrays on both sides."
   ]
  },
  {
   "cell_type": "markdown",
   "metadata": {},
   "source": [
    "### Dedicated solvers"
   ]
  },
  {
   "cell_type": "markdown",
   "metadata": {},
   "source": [
    "Calculating the inverse is not a numerically well behaved operation, so you should rather use a dedicated routine if you are solving this kind of problem:"
   ]
  },
  {
   "cell_type": "code",
   "execution_count": null,
   "metadata": {},
   "outputs": [],
   "source": [
    "beta, residuals, rank, s = numpy.linalg.lstsq(X, Y, rcond=None)\n",
    "beta"
   ]
  },
  {
   "cell_type": "markdown",
   "metadata": {},
   "source": [
    "However, polynomial fits are such a common operation that there are nicer routines to do this fit. There are a whole range of functions in numpy which start with poly. Press tab to see them."
   ]
  },
  {
   "cell_type": "code",
   "execution_count": null,
   "metadata": {},
   "outputs": [],
   "source": [
    "numpy.poly"
   ]
  },
  {
   "cell_type": "code",
   "execution_count": null,
   "metadata": {},
   "outputs": [],
   "source": [
    "poly = numpy.polyfit(x, y, 1)\n",
    "poly"
   ]
  },
  {
   "cell_type": "markdown",
   "metadata": {},
   "source": [
    "Notice that we could just pass the data directly, and the routine handled building the various matrices and the fitting itself."
   ]
  },
  {
   "cell_type": "markdown",
   "metadata": {},
   "source": [
    "It is useful to plot the regression with the data points, but we should sample on a finer grid."
   ]
  },
  {
   "cell_type": "code",
   "execution_count": null,
   "metadata": {},
   "outputs": [],
   "source": [
    "smoothx = numpy.linspace(min(x), max(x), 1000)"
   ]
  },
  {
   "cell_type": "code",
   "execution_count": null,
   "metadata": {},
   "outputs": [],
   "source": [
    "def regplot(poly):\n",
    "    smoothy = numpy.polyval(poly, smoothx)\n",
    "    plt.scatter(x, y, label='data')\n",
    "    plt.plot(smoothx, smoothy, label='linear regression')\n",
    "    plt.plot(x, numpy.polyval(poly, x), label='linear regression, less points')\n",
    "    plt.legend(loc='best')\n",
    "regplot(poly)"
   ]
  },
  {
   "cell_type": "markdown",
   "metadata": {},
   "source": [
    "There's obviously no difference between the two for a linear fit, but what about higher orders?"
   ]
  },
  {
   "cell_type": "code",
   "execution_count": null,
   "metadata": {},
   "outputs": [],
   "source": [
    "poly9 = numpy.polyfit(x, y, 8)\n",
    "regplot(poly9)"
   ]
  },
  {
   "cell_type": "markdown",
   "metadata": {},
   "source": [
    "If we had just plotted the connecting lines, we would have missed the bit sticking up on the left!"
   ]
  },
  {
   "cell_type": "markdown",
   "metadata": {},
   "source": [
    "## Nonlinear regression\n",
    "\n",
    "We can apply the same principles to fit nonlinear functions as well. The `scipy.optimize.curve_fit` function can be used to fit an aribitrary function to data"
   ]
  },
  {
   "cell_type": "code",
   "execution_count": null,
   "metadata": {},
   "outputs": [],
   "source": [
    "import scipy.optimize"
   ]
  },
  {
   "cell_type": "markdown",
   "metadata": {},
   "source": [
    "Let's start by reproducing the results from the linear fit"
   ]
  },
  {
   "cell_type": "code",
   "execution_count": null,
   "metadata": {},
   "outputs": [],
   "source": [
    "def f(x, a, b):\n",
    "    \"\"\"fitting function linear in coefficient\"\"\"\n",
    "    return a*x + b"
   ]
  },
  {
   "cell_type": "code",
   "execution_count": null,
   "metadata": {},
   "outputs": [],
   "source": [
    "beta, _ = scipy.optimize.curve_fit(f, x, y, [1, 0])\n",
    "beta"
   ]
  },
  {
   "cell_type": "markdown",
   "metadata": {},
   "source": [
    "Now let's build some data which is obviously nonlinear"
   ]
  },
  {
   "cell_type": "code",
   "execution_count": null,
   "metadata": {},
   "outputs": [],
   "source": [
    "x = numpy.arange(1, 10)\n",
    "y = 2*numpy.sin(3*x) + x + 1"
   ]
  },
  {
   "cell_type": "code",
   "execution_count": null,
   "metadata": {},
   "outputs": [],
   "source": [
    "def f2(x, a, b, c, d):\n",
    "    \"\"\" A nonlinear fitting function\"\"\"\n",
    "    return a*numpy.sin(b*x)+ c*x + d"
   ]
  },
  {
   "cell_type": "code",
   "execution_count": null,
   "metadata": {},
   "outputs": [],
   "source": [
    "def fit_and_plot(beta0):\n",
    "    beta, _ = scipy.optimize.curve_fit(f2, x, y, beta0)\n",
    "\n",
    "    plt.scatter(x, y)\n",
    "    plt.plot(smoothx, f2(smoothx, *beta))\n",
    "    return beta"
   ]
  },
  {
   "cell_type": "code",
   "execution_count": null,
   "metadata": {},
   "outputs": [],
   "source": [
    "fit_and_plot([1, 1, 1, 1])"
   ]
  },
  {
   "cell_type": "markdown",
   "metadata": {},
   "source": [
    "What went wrong? \n",
    "\n",
    "The initial values we chose were not sufficiently close to the \"correct\" values. This shows the first main problem with nonlinear regression: there may be multiple solutions which are returned based on the initial guess.\n",
    "\n",
    "| Linear regression| Nonlinear regression |\n",
    "|--|--|\n",
    "| single correct solution  | multiple solutions possible depending on initial guess |\n",
    "| requires no initial guess | requires initial guess | \n",
    "| Never returns the \"wrong\" local minimum solution | Sometimes claims success with \"wrong\" answer |\n",
    "| less flexible in functional form | more flexible functional form |\n"
   ]
  },
  {
   "cell_type": "markdown",
   "metadata": {},
   "source": [
    "Let's try a different starting point. Remember the initial data were generated with $\\beta=[2, 3, 1, 1]$"
   ]
  },
  {
   "cell_type": "code",
   "execution_count": null,
   "metadata": {},
   "outputs": [],
   "source": [
    "beta2 = fit_and_plot([2, 2.8, 1, 1])\n",
    "beta2"
   ]
  },
  {
   "cell_type": "markdown",
   "metadata": {},
   "source": [
    "OK, now we know we're right, right? The error of this fit is essentially zero."
   ]
  },
  {
   "cell_type": "code",
   "execution_count": null,
   "metadata": {},
   "outputs": [],
   "source": [
    "def fiterror(beta):\n",
    "    return sum((y - f2(x, *beta))**2)"
   ]
  },
  {
   "cell_type": "code",
   "execution_count": null,
   "metadata": {},
   "outputs": [],
   "source": [
    "fiterror(beta2)"
   ]
  },
  {
   "cell_type": "markdown",
   "metadata": {},
   "source": [
    "But wait, what about this:"
   ]
  },
  {
   "cell_type": "code",
   "execution_count": null,
   "metadata": {},
   "outputs": [],
   "source": [
    "beta3 = fit_and_plot([2, 9.2, 1, 1])\n",
    "beta3"
   ]
  },
  {
   "cell_type": "code",
   "execution_count": null,
   "metadata": {},
   "outputs": [],
   "source": [
    "fiterror(beta3)"
   ]
  },
  {
   "cell_type": "markdown",
   "metadata": {},
   "source": [
    "It is clear that there are multiple solutions to this problem which are equally good! This is a property of nonlinear regression. It is often impossible to recover the \"right\" values of the parameters. You should therefore be careful of interpreting a good fit as evidence of correctness of your model."
   ]
  }
 ],
 "metadata": {
  "anaconda-cloud": {},
  "kernelspec": {
   "display_name": "Python 3",
   "language": "python",
   "name": "python3"
  },
  "language_info": {
   "codemirror_mode": {
    "name": "ipython",
    "version": 3
   },
   "file_extension": ".py",
   "mimetype": "text/x-python",
   "name": "python",
   "nbconvert_exporter": "python",
   "pygments_lexer": "ipython3",
   "version": "3.7.3"
  }
 },
 "nbformat": 4,
 "nbformat_minor": 4
}
