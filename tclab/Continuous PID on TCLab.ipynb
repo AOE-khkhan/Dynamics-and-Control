{
 "cells": [
  {
   "cell_type": "markdown",
   "metadata": {},
   "source": [
    "# A continuous controller acting on a sampled TCLab\n",
    "This notebook shows a correct implementation of a continuous controller acting on a sampled TCLab system.\n",
    "\n",
    "The diagram for this system looks approximately like this:\n",
    "\n",
    "![](../assets/continuous_controller.png)\n",
    "\n"
   ]
  },
  {
   "cell_type": "markdown",
   "metadata": {},
   "source": [
    "$G_C$ is a continuous system. TCLab is also continuous (the temperature exists continuously), but we _interact_ with it via a sampled channel, so the output from the controller is sampled and held during the write. For simplicity we model the idea that the temperature is also sampled by sampling the error."
   ]
  },
  {
   "cell_type": "code",
   "execution_count": 1,
   "metadata": {},
   "outputs": [],
   "source": [
    "import tclab\n",
    "import control\n",
    "import numpy"
   ]
  },
  {
   "cell_type": "code",
   "execution_count": 2,
   "metadata": {},
   "outputs": [],
   "source": [
    "from tqdm.auto import tqdm"
   ]
  },
  {
   "cell_type": "code",
   "execution_count": 3,
   "metadata": {},
   "outputs": [],
   "source": [
    "import matplotlib.pyplot as plt\n",
    "%matplotlib inline"
   ]
  },
  {
   "cell_type": "markdown",
   "metadata": {},
   "source": [
    "We will control $T_1$ to this setpoint"
   ]
  },
  {
   "cell_type": "code",
   "execution_count": 4,
   "metadata": {},
   "outputs": [],
   "source": [
    "def setpoint(t):\n",
    "    if t < 400:\n",
    "        return 30\n",
    "    else:\n",
    "        return 40"
   ]
  },
  {
   "cell_type": "markdown",
   "metadata": {},
   "source": [
    "We will have a disturbance in $Q_2$ to reject"
   ]
  },
  {
   "cell_type": "code",
   "execution_count": 5,
   "metadata": {},
   "outputs": [],
   "source": [
    "def disturbance(t):\n",
    "    if t < 800:\n",
    "        return 0\n",
    "    else:\n",
    "        return 50"
   ]
  },
  {
   "cell_type": "markdown",
   "metadata": {},
   "source": [
    "## Construct controller object\n",
    "\n",
    "This is a realisable PID controller"
   ]
  },
  {
   "cell_type": "code",
   "execution_count": 6,
   "metadata": {},
   "outputs": [],
   "source": [
    "s = control.TransferFunction.s"
   ]
  },
  {
   "cell_type": "code",
   "execution_count": 18,
   "metadata": {},
   "outputs": [],
   "source": [
    "controllertype = 'PID'"
   ]
  },
  {
   "cell_type": "code",
   "execution_count": 19,
   "metadata": {},
   "outputs": [],
   "source": [
    "Kc = 20\n",
    "tau_i = 50\n",
    "tau_d = 5\n",
    "alpha = 0.1"
   ]
  },
  {
   "cell_type": "code",
   "execution_count": 20,
   "metadata": {},
   "outputs": [],
   "source": [
    "if 'I' in controllertype:\n",
    "    Gc = Kc*(1 + 1/(tau_i*s) + tau_d*s/(alpha*tau_d*s + 1))\n",
    "else:\n",
    "    Gc = Kc*(1 + tau_d*s/(alpha*tau_d*s + 1))    "
   ]
  },
  {
   "cell_type": "code",
   "execution_count": 21,
   "metadata": {},
   "outputs": [],
   "source": [
    "# simulate zero-error run to get initial state vector\n",
    "T, yout, xout = control.forced_response(Gc, [0, 1], None, transpose=True)\n",
    "\n",
    "# get initial state vector\n",
    "xc = xout[-1]"
   ]
  },
  {
   "cell_type": "code",
   "execution_count": 22,
   "metadata": {},
   "outputs": [],
   "source": [
    "steptime = 1\n",
    "totaltime = 1500"
   ]
  },
  {
   "cell_type": "code",
   "execution_count": 11,
   "metadata": {},
   "outputs": [
    {
     "name": "stdout",
     "output_type": "stream",
     "text": [
      "TCLab version 0.4.8\n",
      "Simulated TCLab\n"
     ]
    },
    {
     "data": {
      "application/vnd.jupyter.widget-view+json": {
       "model_id": "1450c78cb8df4b5da1e92366841d86c3",
       "version_major": 2,
       "version_minor": 0
      },
      "text/plain": [
       "HBox(children=(FloatProgress(value=0.0, max=1500.0), HTML(value='')))"
      ]
     },
     "metadata": {},
     "output_type": "display_data"
    },
    {
     "name": "stdout",
     "output_type": "stream",
     "text": [
      "\n",
      "TCLab Model disconnected successfully.\n"
     ]
    }
   ],
   "source": [
    "times = numpy.arange(0, totaltime, steptime)\n",
    "\n",
    "with tclab.TCLabModel(synced=False) as lab:  # change to TCLab for real\n",
    "    historian = tclab.Historian(lab.sources)\n",
    "    \n",
    "    prev_t = 0\n",
    "    \n",
    "    error = setpoint(0) - lab.T1\n",
    "\n",
    "    for t in tqdm(times):  # change to tclab.clock(steptime=steptime) to sync with time\n",
    "        # Figure out how much time has gone by since previous clock tick\n",
    "        # Note in the simulation case this will always be `steptime`, but when we sync\n",
    "        # it may not be, so we have to calculate correctly\n",
    "        Δt = t - prev_t\n",
    "        prev_t = t\n",
    "        \n",
    "        # integrate controller assuming error stays constant over timestep (zero-order-hold)\n",
    "        # notice we're using the error from the previous time step, \n",
    "        # because we're simulating from one step ago to right now.\n",
    "        _, yout, xout = control.forced_response(Gc, [0, Δt], [error, error], xc, transpose=True)\n",
    "        \n",
    "        controller_output = yout[-1]\n",
    "        xc = xout[-1]\n",
    "        \n",
    "        # communicate with tclab\n",
    "        # We read the error at \"the same time\" as we write\n",
    "        # This ensures that the controller uses only information from the previous time step\n",
    "        error = setpoint(t) - lab.T1\n",
    "                \n",
    "        # write out to tclab\n",
    "        lab.Q2(disturbance(t))\n",
    "        lab.Q1(controller_output)\n",
    "        \n",
    "        # update historian\n",
    "        historian.update(t)\n",
    "        lab.update(t)  # for the real lab this is not required"
   ]
  },
  {
   "cell_type": "code",
   "execution_count": 12,
   "metadata": {},
   "outputs": [],
   "source": [
    "historian.to_csv('run.csv')"
   ]
  },
  {
   "cell_type": "markdown",
   "metadata": {},
   "source": [
    "# Plotting"
   ]
  },
  {
   "cell_type": "markdown",
   "metadata": {},
   "source": [
    "Note that I write the run data to a file, then analyse separately. This is a good pattern as it allows you to experiment with outputs without having to re-run your experiment"
   ]
  },
  {
   "cell_type": "code",
   "execution_count": 13,
   "metadata": {},
   "outputs": [],
   "source": [
    "import pandas"
   ]
  },
  {
   "cell_type": "code",
   "execution_count": 14,
   "metadata": {},
   "outputs": [],
   "source": [
    "df = pandas.read_csv('run.csv').set_index('Time')"
   ]
  },
  {
   "cell_type": "code",
   "execution_count": 15,
   "metadata": {},
   "outputs": [
    {
     "data": {
      "text/plain": [
       "<matplotlib.axes._subplots.AxesSubplot at 0x1a178bf8d0>"
      ]
     },
     "execution_count": 15,
     "metadata": {},
     "output_type": "execute_result"
    },
    {
     "data": {
      "image/png": "[encoded data removed]",
      "text/plain": [
       "<Figure size 432x288 with 2 Axes>"
      ]
     },
     "metadata": {
      "needs_background": "light"
     },
     "output_type": "display_data"
    }
   ],
   "source": [
    "fig, (axtemp, axheat) = plt.subplots(2, 1)\n",
    "df[['T1', 'T2']].plot(ax=axtemp)\n",
    "df[['Q1', 'Q2']].plot(ax=axheat)"
   ]
  }
 ],
 "metadata": {
  "kernelspec": {
   "display_name": "Python 3",
   "language": "python",
   "name": "python3"
  },
  "language_info": {
   "codemirror_mode": {
    "name": "ipython",
    "version": 3
   },
   "file_extension": ".py",
   "mimetype": "text/x-python",
   "name": "python",
   "nbconvert_exporter": "python",
   "pygments_lexer": "ipython3",
   "version": "3.7.6"
  }
 },
 "nbformat": 4,
 "nbformat_minor": 2
}
